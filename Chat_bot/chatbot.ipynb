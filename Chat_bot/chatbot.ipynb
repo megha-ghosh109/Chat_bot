{
 "cells": [
  {
   "cell_type": "code",
   "execution_count": 1,
   "id": "adcdf67c",
   "metadata": {},
   "outputs": [],
   "source": [
    "import pickle\n",
    "import numpy as np\n"
   ]
  },
  {
   "cell_type": "code",
   "execution_count": 2,
   "id": "cdea2f28",
   "metadata": {},
   "outputs": [],
   "source": [
    "with open(\"train_qa220120145526-220818-175629.txt\", \"rb\") as fp:\n",
    "    train_data = pickle.load(fp)"
   ]
  },
  {
   "cell_type": "code",
   "execution_count": 27,
   "id": "955e5f13",
   "metadata": {},
   "outputs": [],
   "source": [
    "train_data\n"
   ]
  },
  {
   "cell_type": "code",
   "execution_count": 7,
   "id": "f5bfc1ba",
   "metadata": {},
   "outputs": [],
   "source": [
    "with open(\"test_qa220120145430-220818-175426 (1).txt\", \"rb\") as fp:\n",
    "    test_data = pickle.load(fp)"
   ]
  },
  {
   "cell_type": "code",
   "execution_count": 8,
   "id": "27b1c87d",
   "metadata": {},
   "outputs": [],
   "source": [
    "test_data"
   ]
  },
  {
   "cell_type": "code",
   "execution_count": 308,
   "id": "a9fba2b5",
   "metadata": {},
   "outputs": [
    {
     "data": {
      "text/plain": [
       "1000"
      ]
     },
     "execution_count": 308,
     "metadata": {},
     "output_type": "execute_result"
    }
   ],
   "source": [
    "len(test_data)"
   ]
  },
  {
   "cell_type": "code",
   "execution_count": 309,
   "id": "db018329",
   "metadata": {},
   "outputs": [
    {
     "data": {
      "text/plain": [
       "10000"
      ]
     },
     "execution_count": 309,
     "metadata": {},
     "output_type": "execute_result"
    }
   ],
   "source": [
    "len(train_data)"
   ]
  },
  {
   "cell_type": "code",
   "execution_count": 9,
   "id": "a1939829",
   "metadata": {},
   "outputs": [
    {
     "data": {
      "text/plain": [
       "'Mary moved to the bathroom . Sandra journeyed to the bedroom .'"
      ]
     },
     "execution_count": 9,
     "metadata": {},
     "output_type": "execute_result"
    }
   ],
   "source": [
    "' '.join(train_data[0][0])\n"
   ]
  },
  {
   "cell_type": "code",
   "execution_count": 10,
   "id": "cfd72faa",
   "metadata": {},
   "outputs": [
    {
     "data": {
      "text/plain": [
       "'Is Sandra in the hallway ?'"
      ]
     },
     "execution_count": 10,
     "metadata": {},
     "output_type": "execute_result"
    }
   ],
   "source": [
    "' '.join(train_data[0][1])"
   ]
  },
  {
   "cell_type": "code",
   "execution_count": 11,
   "id": "4fe0a75f",
   "metadata": {},
   "outputs": [
    {
     "data": {
      "text/plain": [
       "'no'"
      ]
     },
     "execution_count": 11,
     "metadata": {},
     "output_type": "execute_result"
    }
   ],
   "source": [
    "train_data[0][2]\n"
   ]
  },
  {
   "cell_type": "code",
   "execution_count": 12,
   "id": "2fa3d8b5",
   "metadata": {},
   "outputs": [],
   "source": [
    "vocab = set()"
   ]
  },
  {
   "cell_type": "code",
   "execution_count": 13,
   "id": "cb3d6fd0",
   "metadata": {},
   "outputs": [],
   "source": [
    "all_data = train_data + test_data"
   ]
  },
  {
   "cell_type": "code",
   "execution_count": 16,
   "id": "11ce0714",
   "metadata": {},
   "outputs": [],
   "source": [
    "all_data"
   ]
  },
  {
   "cell_type": "code",
   "execution_count": 17,
   "id": "d026650f",
   "metadata": {},
   "outputs": [],
   "source": [
    "for story, question, answer in all_data:\n",
    "    vocab = vocab.union(set(story))\n",
    "    vocab = vocab.union(set(question))"
   ]
  },
  {
   "cell_type": "code",
   "execution_count": 18,
   "id": "a56507e8",
   "metadata": {},
   "outputs": [],
   "source": [
    "vocab.add('yes')\n",
    "vocab.add('no')"
   ]
  },
  {
   "cell_type": "code",
   "execution_count": 19,
   "id": "2ff62da3",
   "metadata": {},
   "outputs": [
    {
     "data": {
      "text/plain": [
       "{'.',\n",
       " '?',\n",
       " 'Daniel',\n",
       " 'Is',\n",
       " 'John',\n",
       " 'Mary',\n",
       " 'Sandra',\n",
       " 'apple',\n",
       " 'back',\n",
       " 'bathroom',\n",
       " 'bedroom',\n",
       " 'discarded',\n",
       " 'down',\n",
       " 'dropped',\n",
       " 'football',\n",
       " 'garden',\n",
       " 'got',\n",
       " 'grabbed',\n",
       " 'hallway',\n",
       " 'in',\n",
       " 'journeyed',\n",
       " 'kitchen',\n",
       " 'left',\n",
       " 'milk',\n",
       " 'moved',\n",
       " 'no',\n",
       " 'office',\n",
       " 'picked',\n",
       " 'put',\n",
       " 'the',\n",
       " 'there',\n",
       " 'to',\n",
       " 'took',\n",
       " 'travelled',\n",
       " 'up',\n",
       " 'went',\n",
       " 'yes'}"
      ]
     },
     "execution_count": 19,
     "metadata": {},
     "output_type": "execute_result"
    }
   ],
   "source": [
    "vocab"
   ]
  },
  {
   "cell_type": "code",
   "execution_count": 20,
   "id": "b8633a5a",
   "metadata": {},
   "outputs": [
    {
     "data": {
      "text/plain": [
       "37"
      ]
     },
     "execution_count": 20,
     "metadata": {},
     "output_type": "execute_result"
    }
   ],
   "source": [
    "len(vocab)"
   ]
  },
  {
   "cell_type": "code",
   "execution_count": 21,
   "id": "4d04549e",
   "metadata": {},
   "outputs": [
    {
     "name": "stdout",
     "output_type": "stream",
     "text": [
      "38\n"
     ]
    }
   ],
   "source": [
    "vocab_length = len(vocab)+1\n",
    "print(vocab_length)"
   ]
  },
  {
   "cell_type": "code",
   "execution_count": 24,
   "id": "9882c45b",
   "metadata": {},
   "outputs": [],
   "source": [
    "for data in all_data:\n",
    "    print(data)\n",
    "    print(\"\\n\")"
   ]
  },
  {
   "cell_type": "code",
   "execution_count": 322,
   "id": "82b6541b",
   "metadata": {},
   "outputs": [
    {
     "data": {
      "text/plain": [
       "156"
      ]
     },
     "execution_count": 322,
     "metadata": {},
     "output_type": "execute_result"
    }
   ],
   "source": [
    "max_story_len = max([len(data[0]) for data in all_data])\n",
    "max_story_len"
   ]
  },
  {
   "cell_type": "code",
   "execution_count": 323,
   "id": "3f8485bc",
   "metadata": {},
   "outputs": [
    {
     "data": {
      "text/plain": [
       "6"
      ]
     },
     "execution_count": 323,
     "metadata": {},
     "output_type": "execute_result"
    }
   ],
   "source": [
    "max_question_len = max([len(data[1]) for data in all_data])\n",
    "max_question_len"
   ]
  },
  {
   "cell_type": "code",
   "execution_count": 324,
   "id": "fc03e71f",
   "metadata": {},
   "outputs": [],
   "source": [
    "#vectorise"
   ]
  },
  {
   "cell_type": "code",
   "execution_count": 325,
   "id": "0b4775f1",
   "metadata": {},
   "outputs": [
    {
     "data": {
      "text/plain": [
       "{'.',\n",
       " '?',\n",
       " 'Daniel',\n",
       " 'Is',\n",
       " 'John',\n",
       " 'Mary',\n",
       " 'Sandra',\n",
       " 'apple',\n",
       " 'back',\n",
       " 'bathroom',\n",
       " 'bedroom',\n",
       " 'discarded',\n",
       " 'down',\n",
       " 'dropped',\n",
       " 'football',\n",
       " 'garden',\n",
       " 'got',\n",
       " 'grabbed',\n",
       " 'hallway',\n",
       " 'in',\n",
       " 'journeyed',\n",
       " 'kitchen',\n",
       " 'left',\n",
       " 'milk',\n",
       " 'moved',\n",
       " 'no',\n",
       " 'office',\n",
       " 'picked',\n",
       " 'put',\n",
       " 'the',\n",
       " 'there',\n",
       " 'to',\n",
       " 'took',\n",
       " 'travelled',\n",
       " 'up',\n",
       " 'went',\n",
       " 'yes'}"
      ]
     },
     "execution_count": 325,
     "metadata": {},
     "output_type": "execute_result"
    }
   ],
   "source": [
    "vocab\n"
   ]
  },
  {
   "cell_type": "code",
   "execution_count": 25,
   "id": "dcd296cb",
   "metadata": {},
   "outputs": [],
   "source": [
    "pip install tensorflow"
   ]
  },
  {
   "cell_type": "code",
   "execution_count": 327,
   "id": "1efbf037",
   "metadata": {},
   "outputs": [
    {
     "name": "stdout",
     "output_type": "stream",
     "text": [
      "Requirement already satisfied: keras in c:\\users\\megha\\anaconda3\\anaconda_3\\lib\\site-packages (2.10.0)\n",
      "Note: you may need to restart the kernel to use updated packages.\n"
     ]
    }
   ],
   "source": [
    "pip install keras"
   ]
  },
  {
   "cell_type": "code",
   "execution_count": 328,
   "id": "d334fa3b",
   "metadata": {},
   "outputs": [],
   "source": [
    "from keras_preprocessing.sequence import pad_sequences\n",
    "from keras.preprocessing.text import Tokenizer\n"
   ]
  },
  {
   "cell_type": "code",
   "execution_count": 329,
   "id": "682f2477",
   "metadata": {},
   "outputs": [],
   "source": [
    "tokenizer = Tokenizer(filters = [])\n"
   ]
  },
  {
   "cell_type": "code",
   "execution_count": 330,
   "id": "a7dadaaf",
   "metadata": {},
   "outputs": [],
   "source": [
    "tokenizer.fit_on_texts(vocab)"
   ]
  },
  {
   "cell_type": "code",
   "execution_count": 331,
   "id": "42362ed6",
   "metadata": {},
   "outputs": [
    {
     "data": {
      "text/plain": [
       "{'kitchen': 1,\n",
       " 'travelled': 2,\n",
       " 'mary': 3,\n",
       " 'went': 4,\n",
       " '.': 5,\n",
       " 'sandra': 6,\n",
       " 'no': 7,\n",
       " 'john': 8,\n",
       " 'office': 9,\n",
       " 'apple': 10,\n",
       " 'to': 11,\n",
       " 'bedroom': 12,\n",
       " 'discarded': 13,\n",
       " 'yes': 14,\n",
       " 'got': 15,\n",
       " 'journeyed': 16,\n",
       " 'back': 17,\n",
       " 'left': 18,\n",
       " 'up': 19,\n",
       " 'down': 20,\n",
       " 'bathroom': 21,\n",
       " 'is': 22,\n",
       " 'garden': 23,\n",
       " 'took': 24,\n",
       " 'there': 25,\n",
       " 'in': 26,\n",
       " 'moved': 27,\n",
       " 'dropped': 28,\n",
       " 'football': 29,\n",
       " 'picked': 30,\n",
       " 'put': 31,\n",
       " 'milk': 32,\n",
       " 'the': 33,\n",
       " '?': 34,\n",
       " 'daniel': 35,\n",
       " 'grabbed': 36,\n",
       " 'hallway': 37}"
      ]
     },
     "execution_count": 331,
     "metadata": {},
     "output_type": "execute_result"
    }
   ],
   "source": [
    "tokenizer.word_index"
   ]
  },
  {
   "cell_type": "code",
   "execution_count": 332,
   "id": "f5d81f3b",
   "metadata": {},
   "outputs": [],
   "source": [
    "train_story_text = []\n",
    "train_question_text = []\n",
    "train_answers = []\n",
    "for story, question, answer in train_data:\n",
    "    train_story_text.append(story)\n",
    "    train_question_text.append(question)\n",
    "    "
   ]
  },
  {
   "cell_type": "code",
   "execution_count": 333,
   "id": "cfd142e8",
   "metadata": {},
   "outputs": [],
   "source": [
    "train_story_seq = tokenizer.texts_to_sequences(train_story_text)"
   ]
  },
  {
   "cell_type": "code",
   "execution_count": 334,
   "id": "7231b383",
   "metadata": {},
   "outputs": [
    {
     "data": {
      "text/plain": [
       "10000"
      ]
     },
     "execution_count": 334,
     "metadata": {},
     "output_type": "execute_result"
    }
   ],
   "source": [
    "len(train_story_seq)"
   ]
  },
  {
   "cell_type": "code",
   "execution_count": 335,
   "id": "134a0bd0",
   "metadata": {},
   "outputs": [
    {
     "data": {
      "text/plain": [
       "10000"
      ]
     },
     "execution_count": 335,
     "metadata": {},
     "output_type": "execute_result"
    }
   ],
   "source": [
    "len(train_story_text)"
   ]
  },
  {
   "cell_type": "code",
   "execution_count": 145,
   "id": "99942eda",
   "metadata": {},
   "outputs": [],
   "source": [
    "train_story_seq"
   ]
  },
  {
   "cell_type": "code",
   "execution_count": 336,
   "id": "fc328dc2",
   "metadata": {},
   "outputs": [],
   "source": [
    "def vectorize_stories(data, word_index = tokenizer.word_index, max_story_len = max_story_len, max_question_len = max_question_len):\n",
    "    X = [] #stories\n",
    "    Xq = [] #querries\n",
    "    Y = [] #ans\n",
    "    for story, query, answer in data:\n",
    "        x = [word_index[word.lower()] for word in story]\n",
    "        xq = [word_index[word.lower()] for word in query]\n",
    "        y = np.zeros(len(word_index) +1)\n",
    "        y[word_index[answer]] =1\n",
    "        \n",
    "        X.append(x)\n",
    "        Xq.append(xq)\n",
    "        Y.append(y)\n",
    "        \n",
    "    return(pad_sequences(X, maxlen = max_story_len) ,\n",
    "           pad_sequences(Xq, maxlen = max_question_len) , \n",
    "           np.array(Y) )\n",
    "\n",
    "          \n",
    "          \n",
    "        "
   ]
  },
  {
   "cell_type": "code",
   "execution_count": 337,
   "id": "c1ae572d",
   "metadata": {},
   "outputs": [],
   "source": [
    "inputs_train, queries_train, answers_train = vectorize_stories(train_data)"
   ]
  },
  {
   "cell_type": "code",
   "execution_count": 338,
   "id": "7eadb2ec",
   "metadata": {},
   "outputs": [],
   "source": [
    "inputs_test, queries_test, answers_test = vectorize_stories(test_data)"
   ]
  },
  {
   "cell_type": "code",
   "execution_count": 339,
   "id": "b7be9cb8",
   "metadata": {},
   "outputs": [
    {
     "data": {
      "text/plain": [
       "array([[ 0,  0,  0, ..., 33, 12,  5],\n",
       "       [ 0,  0,  0, ..., 33, 37,  5],\n",
       "       [ 0,  0,  0, ..., 33, 21,  5],\n",
       "       ...,\n",
       "       [ 0,  0,  0, ..., 33, 12,  5],\n",
       "       [ 0,  0,  0, ..., 32, 25,  5],\n",
       "       [ 0,  0,  0, ..., 10, 25,  5]])"
      ]
     },
     "execution_count": 339,
     "metadata": {},
     "output_type": "execute_result"
    }
   ],
   "source": [
    "inputs_train\n"
   ]
  },
  {
   "cell_type": "code",
   "execution_count": 340,
   "id": "489da575",
   "metadata": {},
   "outputs": [
    {
     "data": {
      "text/plain": [
       "array([[22,  8, 26, 33,  1, 34],\n",
       "       [22,  8, 26, 33,  1, 34],\n",
       "       [22,  8, 26, 33, 23, 34],\n",
       "       ...,\n",
       "       [22,  3, 26, 33, 12, 34],\n",
       "       [22,  6, 26, 33, 23, 34],\n",
       "       [22,  3, 26, 33, 23, 34]])"
      ]
     },
     "execution_count": 340,
     "metadata": {},
     "output_type": "execute_result"
    }
   ],
   "source": [
    "queries_test"
   ]
  },
  {
   "cell_type": "code",
   "execution_count": 341,
   "id": "f172b7a7",
   "metadata": {},
   "outputs": [
    {
     "data": {
      "text/plain": [
       "array([[0., 0., 0., ..., 0., 0., 0.],\n",
       "       [0., 0., 0., ..., 0., 0., 0.],\n",
       "       [0., 0., 0., ..., 0., 0., 0.],\n",
       "       ...,\n",
       "       [0., 0., 0., ..., 0., 0., 0.],\n",
       "       [0., 0., 0., ..., 0., 0., 0.],\n",
       "       [0., 0., 0., ..., 0., 0., 0.]])"
      ]
     },
     "execution_count": 341,
     "metadata": {},
     "output_type": "execute_result"
    }
   ],
   "source": [
    "answers_test"
   ]
  },
  {
   "cell_type": "code",
   "execution_count": 342,
   "id": "8b97b2a6",
   "metadata": {},
   "outputs": [
    {
     "data": {
      "text/plain": [
       "array([[22,  8, 26, 33,  1, 34],\n",
       "       [22,  8, 26, 33,  1, 34],\n",
       "       [22,  8, 26, 33, 23, 34],\n",
       "       ...,\n",
       "       [22,  3, 26, 33, 12, 34],\n",
       "       [22,  6, 26, 33, 23, 34],\n",
       "       [22,  3, 26, 33, 23, 34]])"
      ]
     },
     "execution_count": 342,
     "metadata": {},
     "output_type": "execute_result"
    }
   ],
   "source": [
    "queries_test"
   ]
  },
  {
   "cell_type": "code",
   "execution_count": 343,
   "id": "a18aecf2",
   "metadata": {},
   "outputs": [
    {
     "data": {
      "text/plain": [
       "14"
      ]
     },
     "execution_count": 343,
     "metadata": {},
     "output_type": "execute_result"
    }
   ],
   "source": [
    "tokenizer.word_index['yes']"
   ]
  },
  {
   "cell_type": "code",
   "execution_count": 344,
   "id": "67c7a5a8",
   "metadata": {},
   "outputs": [
    {
     "data": {
      "text/plain": [
       "7"
      ]
     },
     "execution_count": 344,
     "metadata": {},
     "output_type": "execute_result"
    }
   ],
   "source": [
    "tokenizer.word_index['no']"
   ]
  },
  {
   "cell_type": "code",
   "execution_count": 345,
   "id": "0d8ad180",
   "metadata": {},
   "outputs": [],
   "source": [
    "from keras.models import Sequential, Model"
   ]
  },
  {
   "cell_type": "code",
   "execution_count": 346,
   "id": "e4f8a067",
   "metadata": {},
   "outputs": [],
   "source": [
    "from tensorflow.keras.layers import Embedding"
   ]
  },
  {
   "cell_type": "code",
   "execution_count": 347,
   "id": "92e71c57",
   "metadata": {},
   "outputs": [],
   "source": [
    "from tensorflow.keras.layers import Input, Activation, Dense, Permute, Dropout, add, dot, concatenate, LSTM"
   ]
  },
  {
   "cell_type": "code",
   "execution_count": 348,
   "id": "41e19970",
   "metadata": {},
   "outputs": [],
   "source": [
    "input_sequence = Input((max_story_len,))\n",
    "question = Input((max_question_len,))\n"
   ]
  },
  {
   "cell_type": "code",
   "execution_count": 349,
   "id": "4b9aa159",
   "metadata": {},
   "outputs": [],
   "source": [
    "#input encoder m"
   ]
  },
  {
   "cell_type": "code",
   "execution_count": 350,
   "id": "546c05b6",
   "metadata": {},
   "outputs": [],
   "source": [
    "input_encoder_m = Sequential()\n",
    "input_encoder_m.add(Embedding(input_dim = vocab_length, output_dim = 64))\n",
    "input_encoder_m.add(Dropout(0.3))"
   ]
  },
  {
   "cell_type": "code",
   "execution_count": 351,
   "id": "d98fc96a",
   "metadata": {},
   "outputs": [],
   "source": [
    "#input encoder c"
   ]
  },
  {
   "cell_type": "code",
   "execution_count": 352,
   "id": "40d8968a",
   "metadata": {},
   "outputs": [],
   "source": [
    "input_encoder_c = Sequential()\n",
    "input_encoder_c.add(Embedding(input_dim = vocab_length, output_dim = max_question_len))\n",
    "input_encoder_c.add(Dropout(0.3))"
   ]
  },
  {
   "cell_type": "code",
   "execution_count": 353,
   "id": "69cc6527",
   "metadata": {},
   "outputs": [],
   "source": [
    "# question encoder \n"
   ]
  },
  {
   "cell_type": "code",
   "execution_count": 354,
   "id": "25def324",
   "metadata": {},
   "outputs": [],
   "source": [
    "question_encoder = Sequential()\n",
    "question_encoder.add(Embedding(input_dim = vocab_length, output_dim = 64, input_length = max_question_len))\n",
    "question_encoder.add(Dropout(0.3))"
   ]
  },
  {
   "cell_type": "code",
   "execution_count": 355,
   "id": "7ce8cb07",
   "metadata": {},
   "outputs": [],
   "source": [
    "# encode the sequence\n"
   ]
  },
  {
   "cell_type": "code",
   "execution_count": 356,
   "id": "41ba16d8",
   "metadata": {},
   "outputs": [],
   "source": [
    "input_encoded_m = input_encoder_m(input_sequence)\n",
    "input_encoded_c = input_encoder_c(input_sequence)\n",
    "question_encoded = question_encoder(question)"
   ]
  },
  {
   "cell_type": "code",
   "execution_count": 357,
   "id": "c2213eab",
   "metadata": {},
   "outputs": [],
   "source": [
    "match = dot([input_encoded_m, question_encoded], axes =(2,2))"
   ]
  },
  {
   "cell_type": "code",
   "execution_count": 358,
   "id": "47d987dc",
   "metadata": {},
   "outputs": [],
   "source": [
    "match = Activation('softmax')(match)"
   ]
  },
  {
   "cell_type": "code",
   "execution_count": 359,
   "id": "fc0b548b",
   "metadata": {},
   "outputs": [],
   "source": [
    "response = add([match,input_encoded_c ])\n",
    "response = Permute((2,1))(response)"
   ]
  },
  {
   "cell_type": "code",
   "execution_count": 360,
   "id": "ba015fb7",
   "metadata": {},
   "outputs": [],
   "source": [
    "#concatenate"
   ]
  },
  {
   "cell_type": "code",
   "execution_count": 361,
   "id": "ffcfd516",
   "metadata": {},
   "outputs": [],
   "source": [
    "answer = concatenate([response,question_encoded])"
   ]
  },
  {
   "cell_type": "code",
   "execution_count": 362,
   "id": "b73bc852",
   "metadata": {},
   "outputs": [
    {
     "data": {
      "text/plain": [
       "<KerasTensor: shape=(None, 6, 220) dtype=float32 (created by layer 'concatenate_1')>"
      ]
     },
     "execution_count": 362,
     "metadata": {},
     "output_type": "execute_result"
    }
   ],
   "source": [
    "answer"
   ]
  },
  {
   "cell_type": "code",
   "execution_count": 363,
   "id": "94e04b64",
   "metadata": {},
   "outputs": [],
   "source": [
    "answer = LSTM(32)(answer)\n",
    "answer = Dropout(0.5)(answer)\n",
    "answer = Dense(vocab_length)(answer)"
   ]
  },
  {
   "cell_type": "code",
   "execution_count": 364,
   "id": "5519d4bf",
   "metadata": {},
   "outputs": [],
   "source": [
    "answer = Activation('softmax')(answer)"
   ]
  },
  {
   "cell_type": "code",
   "execution_count": 365,
   "id": "47f1c6a9",
   "metadata": {},
   "outputs": [],
   "source": [
    "model = Model([input_sequence, question], answer)\n",
    "model.compile(optimizer = 'rmsprop', loss = 'categorical_crossentropy', metrics = ['accuracy'])\n"
   ]
  },
  {
   "cell_type": "code",
   "execution_count": 366,
   "id": "52a55099",
   "metadata": {},
   "outputs": [
    {
     "name": "stdout",
     "output_type": "stream",
     "text": [
      "Model: \"model_1\"\n",
      "__________________________________________________________________________________________________\n",
      " Layer (type)                   Output Shape         Param #     Connected to                     \n",
      "==================================================================================================\n",
      " input_6 (InputLayer)           [(None, 156)]        0           []                               \n",
      "                                                                                                  \n",
      " input_7 (InputLayer)           [(None, 6)]          0           []                               \n",
      "                                                                                                  \n",
      " sequential_5 (Sequential)      (None, None, 64)     2432        ['input_6[0][0]']                \n",
      "                                                                                                  \n",
      " sequential_7 (Sequential)      (None, 6, 64)        2432        ['input_7[0][0]']                \n",
      "                                                                                                  \n",
      " dot_1 (Dot)                    (None, 156, 6)       0           ['sequential_5[0][0]',           \n",
      "                                                                  'sequential_7[0][0]']           \n",
      "                                                                                                  \n",
      " activation_2 (Activation)      (None, 156, 6)       0           ['dot_1[0][0]']                  \n",
      "                                                                                                  \n",
      " sequential_6 (Sequential)      (None, None, 6)      228         ['input_6[0][0]']                \n",
      "                                                                                                  \n",
      " add_1 (Add)                    (None, 156, 6)       0           ['activation_2[0][0]',           \n",
      "                                                                  'sequential_6[0][0]']           \n",
      "                                                                                                  \n",
      " permute_1 (Permute)            (None, 6, 156)       0           ['add_1[0][0]']                  \n",
      "                                                                                                  \n",
      " concatenate_1 (Concatenate)    (None, 6, 220)       0           ['permute_1[0][0]',              \n",
      "                                                                  'sequential_7[0][0]']           \n",
      "                                                                                                  \n",
      " lstm_1 (LSTM)                  (None, 32)           32384       ['concatenate_1[0][0]']          \n",
      "                                                                                                  \n",
      " dropout_9 (Dropout)            (None, 32)           0           ['lstm_1[0][0]']                 \n",
      "                                                                                                  \n",
      " dense_1 (Dense)                (None, 38)           1254        ['dropout_9[0][0]']              \n",
      "                                                                                                  \n",
      " activation_3 (Activation)      (None, 38)           0           ['dense_1[0][0]']                \n",
      "                                                                                                  \n",
      "==================================================================================================\n",
      "Total params: 38,730\n",
      "Trainable params: 38,730\n",
      "Non-trainable params: 0\n",
      "__________________________________________________________________________________________________\n"
     ]
    }
   ],
   "source": [
    "model.summary()"
   ]
  },
  {
   "cell_type": "code",
   "execution_count": 367,
   "id": "1a5af119",
   "metadata": {},
   "outputs": [
    {
     "name": "stdout",
     "output_type": "stream",
     "text": [
      "Epoch 1/150\n",
      "313/313 [==============================] - 9s 19ms/step - loss: 0.8867 - accuracy: 0.5027 - val_loss: 0.6972 - val_accuracy: 0.4970\n",
      "Epoch 2/150\n",
      "313/313 [==============================] - 5s 16ms/step - loss: 0.7018 - accuracy: 0.5011 - val_loss: 0.6937 - val_accuracy: 0.4970\n",
      "Epoch 3/150\n",
      "313/313 [==============================] - 4s 14ms/step - loss: 0.6958 - accuracy: 0.4978 - val_loss: 0.6969 - val_accuracy: 0.4970\n",
      "Epoch 4/150\n",
      "313/313 [==============================] - 4s 13ms/step - loss: 0.6953 - accuracy: 0.5014 - val_loss: 0.6933 - val_accuracy: 0.4970\n",
      "Epoch 5/150\n",
      "313/313 [==============================] - 5s 14ms/step - loss: 0.6942 - accuracy: 0.5009 - val_loss: 0.6932 - val_accuracy: 0.5030\n",
      "Epoch 6/150\n",
      "313/313 [==============================] - 5s 14ms/step - loss: 0.6940 - accuracy: 0.5080 - val_loss: 0.6933 - val_accuracy: 0.4950\n",
      "Epoch 7/150\n",
      "313/313 [==============================] - 4s 14ms/step - loss: 0.6949 - accuracy: 0.4981 - val_loss: 0.6934 - val_accuracy: 0.4960\n",
      "Epoch 8/150\n",
      "313/313 [==============================] - 5s 15ms/step - loss: 0.6944 - accuracy: 0.4991 - val_loss: 0.6937 - val_accuracy: 0.4910\n",
      "Epoch 9/150\n",
      "313/313 [==============================] - 5s 15ms/step - loss: 0.6942 - accuracy: 0.5049 - val_loss: 0.6948 - val_accuracy: 0.4970\n",
      "Epoch 10/150\n",
      "313/313 [==============================] - 5s 15ms/step - loss: 0.6940 - accuracy: 0.5030 - val_loss: 0.6939 - val_accuracy: 0.4810\n",
      "Epoch 11/150\n",
      "313/313 [==============================] - 5s 14ms/step - loss: 0.6939 - accuracy: 0.5016 - val_loss: 0.6940 - val_accuracy: 0.5020\n",
      "Epoch 12/150\n",
      "313/313 [==============================] - 4s 14ms/step - loss: 0.6934 - accuracy: 0.5065 - val_loss: 0.6948 - val_accuracy: 0.4780\n",
      "Epoch 13/150\n",
      "313/313 [==============================] - 4s 14ms/step - loss: 0.6929 - accuracy: 0.5131 - val_loss: 0.6953 - val_accuracy: 0.5010\n",
      "Epoch 14/150\n",
      "313/313 [==============================] - 5s 15ms/step - loss: 0.6907 - accuracy: 0.5275 - val_loss: 0.6919 - val_accuracy: 0.5360\n",
      "Epoch 15/150\n",
      "313/313 [==============================] - 5s 16ms/step - loss: 0.6816 - accuracy: 0.5576 - val_loss: 0.6765 - val_accuracy: 0.5480\n",
      "Epoch 16/150\n",
      "313/313 [==============================] - 5s 16ms/step - loss: 0.6276 - accuracy: 0.6505 - val_loss: 0.5972 - val_accuracy: 0.6870\n",
      "Epoch 17/150\n",
      "313/313 [==============================] - 5s 16ms/step - loss: 0.5764 - accuracy: 0.6997 - val_loss: 0.5504 - val_accuracy: 0.7200\n",
      "Epoch 18/150\n",
      "313/313 [==============================] - 5s 16ms/step - loss: 0.5375 - accuracy: 0.7381 - val_loss: 0.5038 - val_accuracy: 0.7760\n",
      "Epoch 19/150\n",
      "313/313 [==============================] - 5s 16ms/step - loss: 0.4955 - accuracy: 0.7696 - val_loss: 0.4590 - val_accuracy: 0.8000\n",
      "Epoch 20/150\n",
      "313/313 [==============================] - 5s 16ms/step - loss: 0.4652 - accuracy: 0.7937 - val_loss: 0.4392 - val_accuracy: 0.8110\n",
      "Epoch 21/150\n",
      "313/313 [==============================] - 5s 16ms/step - loss: 0.4336 - accuracy: 0.8148 - val_loss: 0.4253 - val_accuracy: 0.8240\n",
      "Epoch 22/150\n",
      "313/313 [==============================] - 5s 16ms/step - loss: 0.4127 - accuracy: 0.8252 - val_loss: 0.4109 - val_accuracy: 0.8180\n",
      "Epoch 23/150\n",
      "313/313 [==============================] - 5s 16ms/step - loss: 0.3985 - accuracy: 0.8347 - val_loss: 0.4140 - val_accuracy: 0.8300\n",
      "Epoch 24/150\n",
      "313/313 [==============================] - 4s 14ms/step - loss: 0.3856 - accuracy: 0.8420 - val_loss: 0.4008 - val_accuracy: 0.8330\n",
      "Epoch 25/150\n",
      "313/313 [==============================] - 5s 14ms/step - loss: 0.3804 - accuracy: 0.8459 - val_loss: 0.3945 - val_accuracy: 0.8340\n",
      "Epoch 26/150\n",
      "313/313 [==============================] - 5s 16ms/step - loss: 0.3682 - accuracy: 0.8487 - val_loss: 0.4121 - val_accuracy: 0.8240\n",
      "Epoch 27/150\n",
      "313/313 [==============================] - 4s 13ms/step - loss: 0.3632 - accuracy: 0.8484 - val_loss: 0.3970 - val_accuracy: 0.8330\n",
      "Epoch 28/150\n",
      "313/313 [==============================] - 3s 11ms/step - loss: 0.3518 - accuracy: 0.8567 - val_loss: 0.3852 - val_accuracy: 0.8370\n",
      "Epoch 29/150\n",
      "313/313 [==============================] - 3s 11ms/step - loss: 0.3532 - accuracy: 0.8545 - val_loss: 0.3870 - val_accuracy: 0.8390\n",
      "Epoch 30/150\n",
      "313/313 [==============================] - 4s 12ms/step - loss: 0.3476 - accuracy: 0.8599 - val_loss: 0.3944 - val_accuracy: 0.8360\n",
      "Epoch 31/150\n",
      "313/313 [==============================] - 4s 12ms/step - loss: 0.3398 - accuracy: 0.8620 - val_loss: 0.3879 - val_accuracy: 0.8260\n",
      "Epoch 32/150\n",
      "313/313 [==============================] - 4s 12ms/step - loss: 0.3381 - accuracy: 0.8581 - val_loss: 0.3885 - val_accuracy: 0.8400\n",
      "Epoch 33/150\n",
      "313/313 [==============================] - 4s 12ms/step - loss: 0.3355 - accuracy: 0.8596 - val_loss: 0.3798 - val_accuracy: 0.8370\n",
      "Epoch 34/150\n",
      "313/313 [==============================] - 5s 16ms/step - loss: 0.3334 - accuracy: 0.8620 - val_loss: 0.3714 - val_accuracy: 0.8320\n",
      "Epoch 35/150\n",
      "313/313 [==============================] - 5s 15ms/step - loss: 0.3342 - accuracy: 0.8640 - val_loss: 0.3868 - val_accuracy: 0.8340\n",
      "Epoch 36/150\n",
      "313/313 [==============================] - 4s 13ms/step - loss: 0.3262 - accuracy: 0.8641 - val_loss: 0.3773 - val_accuracy: 0.8390\n",
      "Epoch 37/150\n",
      "313/313 [==============================] - 5s 16ms/step - loss: 0.3230 - accuracy: 0.8661 - val_loss: 0.3748 - val_accuracy: 0.8320\n",
      "Epoch 38/150\n",
      "313/313 [==============================] - 5s 15ms/step - loss: 0.3217 - accuracy: 0.8684 - val_loss: 0.3780 - val_accuracy: 0.8380\n",
      "Epoch 39/150\n",
      "313/313 [==============================] - 4s 12ms/step - loss: 0.3176 - accuracy: 0.8645 - val_loss: 0.3718 - val_accuracy: 0.8340\n",
      "Epoch 40/150\n",
      "313/313 [==============================] - 4s 13ms/step - loss: 0.3212 - accuracy: 0.8662 - val_loss: 0.3888 - val_accuracy: 0.8360\n",
      "Epoch 41/150\n",
      "313/313 [==============================] - 4s 14ms/step - loss: 0.3153 - accuracy: 0.8672 - val_loss: 0.3821 - val_accuracy: 0.8430\n",
      "Epoch 42/150\n",
      "313/313 [==============================] - 5s 15ms/step - loss: 0.3159 - accuracy: 0.8681 - val_loss: 0.3666 - val_accuracy: 0.8310\n",
      "Epoch 43/150\n",
      "313/313 [==============================] - 5s 16ms/step - loss: 0.3093 - accuracy: 0.8687 - val_loss: 0.3822 - val_accuracy: 0.8420\n",
      "Epoch 44/150\n",
      "313/313 [==============================] - 5s 15ms/step - loss: 0.3086 - accuracy: 0.8704 - val_loss: 0.3751 - val_accuracy: 0.8290\n",
      "Epoch 45/150\n",
      "313/313 [==============================] - 4s 13ms/step - loss: 0.3057 - accuracy: 0.8693 - val_loss: 0.3819 - val_accuracy: 0.8400\n",
      "Epoch 46/150\n",
      "313/313 [==============================] - 4s 13ms/step - loss: 0.3046 - accuracy: 0.8732 - val_loss: 0.3693 - val_accuracy: 0.8400\n",
      "Epoch 47/150\n",
      "313/313 [==============================] - 5s 15ms/step - loss: 0.3003 - accuracy: 0.8723 - val_loss: 0.3792 - val_accuracy: 0.8390\n",
      "Epoch 48/150\n",
      "313/313 [==============================] - 5s 16ms/step - loss: 0.2993 - accuracy: 0.8769 - val_loss: 0.3620 - val_accuracy: 0.8420\n",
      "Epoch 49/150\n",
      "313/313 [==============================] - 5s 16ms/step - loss: 0.2952 - accuracy: 0.8743 - val_loss: 0.3737 - val_accuracy: 0.8340\n",
      "Epoch 50/150\n",
      "313/313 [==============================] - 5s 16ms/step - loss: 0.2977 - accuracy: 0.8726 - val_loss: 0.3649 - val_accuracy: 0.8410\n",
      "Epoch 51/150\n",
      "313/313 [==============================] - 5s 16ms/step - loss: 0.2954 - accuracy: 0.8772 - val_loss: 0.3826 - val_accuracy: 0.8350\n",
      "Epoch 52/150\n",
      "313/313 [==============================] - 5s 16ms/step - loss: 0.2920 - accuracy: 0.8754 - val_loss: 0.3742 - val_accuracy: 0.8410\n",
      "Epoch 53/150\n",
      "313/313 [==============================] - 5s 16ms/step - loss: 0.2920 - accuracy: 0.8779 - val_loss: 0.3620 - val_accuracy: 0.8320\n",
      "Epoch 54/150\n",
      "313/313 [==============================] - 5s 16ms/step - loss: 0.2898 - accuracy: 0.8792 - val_loss: 0.3720 - val_accuracy: 0.8270\n",
      "Epoch 55/150\n",
      "313/313 [==============================] - 4s 14ms/step - loss: 0.2858 - accuracy: 0.8795 - val_loss: 0.3787 - val_accuracy: 0.8400\n",
      "Epoch 56/150\n",
      "313/313 [==============================] - 4s 14ms/step - loss: 0.2846 - accuracy: 0.8815 - val_loss: 0.3897 - val_accuracy: 0.8430\n",
      "Epoch 57/150\n",
      "313/313 [==============================] - 4s 14ms/step - loss: 0.2802 - accuracy: 0.8806 - val_loss: 0.3710 - val_accuracy: 0.8360\n",
      "Epoch 58/150\n",
      "313/313 [==============================] - 4s 14ms/step - loss: 0.2773 - accuracy: 0.8846 - val_loss: 0.3894 - val_accuracy: 0.8220\n",
      "Epoch 59/150\n",
      "313/313 [==============================] - 4s 14ms/step - loss: 0.2792 - accuracy: 0.8799 - val_loss: 0.3944 - val_accuracy: 0.8380\n",
      "Epoch 60/150\n",
      "313/313 [==============================] - 4s 14ms/step - loss: 0.2766 - accuracy: 0.8831 - val_loss: 0.3891 - val_accuracy: 0.8210\n",
      "Epoch 61/150\n",
      "313/313 [==============================] - 4s 14ms/step - loss: 0.2727 - accuracy: 0.8878 - val_loss: 0.3938 - val_accuracy: 0.8390\n",
      "Epoch 62/150\n",
      "313/313 [==============================] - 4s 14ms/step - loss: 0.2685 - accuracy: 0.8878 - val_loss: 0.3968 - val_accuracy: 0.8290\n",
      "Epoch 63/150\n",
      "313/313 [==============================] - 5s 15ms/step - loss: 0.2682 - accuracy: 0.8866 - val_loss: 0.3958 - val_accuracy: 0.8390\n",
      "Epoch 64/150\n",
      "313/313 [==============================] - 5s 15ms/step - loss: 0.2687 - accuracy: 0.8863 - val_loss: 0.3827 - val_accuracy: 0.8470\n",
      "Epoch 65/150\n",
      "313/313 [==============================] - 5s 14ms/step - loss: 0.2601 - accuracy: 0.8906 - val_loss: 0.4111 - val_accuracy: 0.8280\n",
      "Epoch 66/150\n",
      "313/313 [==============================] - 5s 15ms/step - loss: 0.2633 - accuracy: 0.8889 - val_loss: 0.4279 - val_accuracy: 0.8070\n",
      "Epoch 67/150\n",
      "313/313 [==============================] - 5s 15ms/step - loss: 0.2610 - accuracy: 0.8902 - val_loss: 0.4019 - val_accuracy: 0.8320\n",
      "Epoch 68/150\n",
      "313/313 [==============================] - 5s 15ms/step - loss: 0.2586 - accuracy: 0.8928 - val_loss: 0.4001 - val_accuracy: 0.8430\n",
      "Epoch 69/150\n",
      "313/313 [==============================] - 5s 15ms/step - loss: 0.2581 - accuracy: 0.8909 - val_loss: 0.3936 - val_accuracy: 0.8250\n",
      "Epoch 70/150\n",
      "313/313 [==============================] - 5s 15ms/step - loss: 0.2581 - accuracy: 0.8915 - val_loss: 0.3893 - val_accuracy: 0.8330\n",
      "Epoch 71/150\n",
      "313/313 [==============================] - 5s 15ms/step - loss: 0.2482 - accuracy: 0.8966 - val_loss: 0.4001 - val_accuracy: 0.8240\n",
      "Epoch 72/150\n",
      "313/313 [==============================] - 5s 15ms/step - loss: 0.2498 - accuracy: 0.8948 - val_loss: 0.4123 - val_accuracy: 0.8290\n",
      "Epoch 73/150\n",
      "313/313 [==============================] - 5s 15ms/step - loss: 0.2510 - accuracy: 0.8939 - val_loss: 0.4060 - val_accuracy: 0.8350\n",
      "Epoch 74/150\n",
      "313/313 [==============================] - 5s 15ms/step - loss: 0.2466 - accuracy: 0.9011 - val_loss: 0.3954 - val_accuracy: 0.8360\n",
      "Epoch 75/150\n",
      "313/313 [==============================] - 5s 15ms/step - loss: 0.2426 - accuracy: 0.8974 - val_loss: 0.4317 - val_accuracy: 0.8300\n",
      "Epoch 76/150\n",
      "313/313 [==============================] - 5s 15ms/step - loss: 0.2481 - accuracy: 0.8960 - val_loss: 0.4223 - val_accuracy: 0.8320\n",
      "Epoch 77/150\n",
      "313/313 [==============================] - 4s 14ms/step - loss: 0.2421 - accuracy: 0.8993 - val_loss: 0.4166 - val_accuracy: 0.8300\n",
      "Epoch 78/150\n",
      "313/313 [==============================] - 4s 12ms/step - loss: 0.2357 - accuracy: 0.9049 - val_loss: 0.4365 - val_accuracy: 0.8160\n",
      "Epoch 79/150\n",
      "313/313 [==============================] - 4s 13ms/step - loss: 0.2352 - accuracy: 0.9032 - val_loss: 0.4498 - val_accuracy: 0.8120\n",
      "Epoch 80/150\n",
      "313/313 [==============================] - 5s 15ms/step - loss: 0.2363 - accuracy: 0.9015 - val_loss: 0.4379 - val_accuracy: 0.8280\n",
      "Epoch 81/150\n",
      "313/313 [==============================] - 5s 15ms/step - loss: 0.2316 - accuracy: 0.9052 - val_loss: 0.4354 - val_accuracy: 0.8370\n",
      "Epoch 82/150\n",
      "313/313 [==============================] - 5s 15ms/step - loss: 0.2319 - accuracy: 0.9065 - val_loss: 0.4278 - val_accuracy: 0.8360\n",
      "Epoch 83/150\n",
      "313/313 [==============================] - 5s 15ms/step - loss: 0.2290 - accuracy: 0.9067 - val_loss: 0.4557 - val_accuracy: 0.8360\n",
      "Epoch 84/150\n",
      "313/313 [==============================] - 5s 15ms/step - loss: 0.2275 - accuracy: 0.9076 - val_loss: 0.4487 - val_accuracy: 0.8210\n",
      "Epoch 85/150\n",
      "313/313 [==============================] - 5s 15ms/step - loss: 0.2261 - accuracy: 0.9060 - val_loss: 0.4518 - val_accuracy: 0.8230\n",
      "Epoch 86/150\n",
      "313/313 [==============================] - 5s 15ms/step - loss: 0.2236 - accuracy: 0.9080 - val_loss: 0.4557 - val_accuracy: 0.8330\n",
      "Epoch 87/150\n",
      "313/313 [==============================] - 5s 15ms/step - loss: 0.2210 - accuracy: 0.9108 - val_loss: 0.4427 - val_accuracy: 0.8250\n",
      "Epoch 88/150\n",
      "313/313 [==============================] - 5s 15ms/step - loss: 0.2179 - accuracy: 0.9110 - val_loss: 0.4269 - val_accuracy: 0.8370\n",
      "Epoch 89/150\n",
      "313/313 [==============================] - 5s 15ms/step - loss: 0.2184 - accuracy: 0.9094 - val_loss: 0.4481 - val_accuracy: 0.8230\n",
      "Epoch 90/150\n",
      "313/313 [==============================] - 5s 15ms/step - loss: 0.2151 - accuracy: 0.9158 - val_loss: 0.4500 - val_accuracy: 0.8320\n",
      "Epoch 91/150\n",
      "313/313 [==============================] - 5s 15ms/step - loss: 0.2132 - accuracy: 0.9119 - val_loss: 0.4572 - val_accuracy: 0.8350\n",
      "Epoch 92/150\n",
      "313/313 [==============================] - 5s 15ms/step - loss: 0.2129 - accuracy: 0.9086 - val_loss: 0.4936 - val_accuracy: 0.8320\n",
      "Epoch 93/150\n",
      "313/313 [==============================] - 5s 15ms/step - loss: 0.2117 - accuracy: 0.9138 - val_loss: 0.4712 - val_accuracy: 0.8270\n",
      "Epoch 94/150\n",
      "313/313 [==============================] - 5s 15ms/step - loss: 0.2104 - accuracy: 0.9145 - val_loss: 0.4601 - val_accuracy: 0.8290\n",
      "Epoch 95/150\n",
      "313/313 [==============================] - 5s 15ms/step - loss: 0.2056 - accuracy: 0.9156 - val_loss: 0.4512 - val_accuracy: 0.8300\n",
      "Epoch 96/150\n",
      "313/313 [==============================] - 5s 15ms/step - loss: 0.2029 - accuracy: 0.9184 - val_loss: 0.4832 - val_accuracy: 0.8370\n",
      "Epoch 97/150\n",
      "313/313 [==============================] - 5s 15ms/step - loss: 0.2077 - accuracy: 0.9168 - val_loss: 0.4774 - val_accuracy: 0.8330\n",
      "Epoch 98/150\n",
      "313/313 [==============================] - 5s 15ms/step - loss: 0.2005 - accuracy: 0.9186 - val_loss: 0.4807 - val_accuracy: 0.8280\n",
      "Epoch 99/150\n",
      "313/313 [==============================] - 5s 15ms/step - loss: 0.1991 - accuracy: 0.9210 - val_loss: 0.4775 - val_accuracy: 0.8170\n",
      "Epoch 100/150\n",
      "313/313 [==============================] - 5s 15ms/step - loss: 0.2034 - accuracy: 0.9179 - val_loss: 0.4803 - val_accuracy: 0.8350\n",
      "Epoch 101/150\n",
      "313/313 [==============================] - 5s 15ms/step - loss: 0.1963 - accuracy: 0.9202 - val_loss: 0.4825 - val_accuracy: 0.8170\n",
      "Epoch 102/150\n",
      "313/313 [==============================] - 5s 15ms/step - loss: 0.1973 - accuracy: 0.9191 - val_loss: 0.4586 - val_accuracy: 0.8280\n",
      "Epoch 103/150\n",
      "313/313 [==============================] - 5s 15ms/step - loss: 0.1930 - accuracy: 0.9221 - val_loss: 0.5113 - val_accuracy: 0.8210\n",
      "Epoch 104/150\n",
      "313/313 [==============================] - 4s 14ms/step - loss: 0.1892 - accuracy: 0.9230 - val_loss: 0.5170 - val_accuracy: 0.8330\n",
      "Epoch 105/150\n",
      "313/313 [==============================] - 4s 14ms/step - loss: 0.1954 - accuracy: 0.9202 - val_loss: 0.5169 - val_accuracy: 0.8210\n",
      "Epoch 106/150\n",
      "313/313 [==============================] - 5s 15ms/step - loss: 0.1936 - accuracy: 0.9196 - val_loss: 0.4974 - val_accuracy: 0.8260\n",
      "Epoch 107/150\n",
      "313/313 [==============================] - 5s 15ms/step - loss: 0.1880 - accuracy: 0.9242 - val_loss: 0.5141 - val_accuracy: 0.8260\n",
      "Epoch 108/150\n",
      "313/313 [==============================] - 5s 15ms/step - loss: 0.1888 - accuracy: 0.9210 - val_loss: 0.5150 - val_accuracy: 0.8190\n",
      "Epoch 109/150\n",
      "313/313 [==============================] - 5s 15ms/step - loss: 0.1847 - accuracy: 0.9257 - val_loss: 0.5555 - val_accuracy: 0.8190\n",
      "Epoch 110/150\n",
      "313/313 [==============================] - 5s 15ms/step - loss: 0.1842 - accuracy: 0.9272 - val_loss: 0.5424 - val_accuracy: 0.8090\n",
      "Epoch 111/150\n",
      "313/313 [==============================] - 5s 15ms/step - loss: 0.1891 - accuracy: 0.9239 - val_loss: 0.5491 - val_accuracy: 0.8150\n",
      "Epoch 112/150\n",
      "313/313 [==============================] - 5s 15ms/step - loss: 0.1837 - accuracy: 0.9223 - val_loss: 0.5615 - val_accuracy: 0.8290\n",
      "Epoch 113/150\n"
     ]
    },
    {
     "name": "stdout",
     "output_type": "stream",
     "text": [
      "313/313 [==============================] - 5s 15ms/step - loss: 0.1785 - accuracy: 0.9271 - val_loss: 0.5242 - val_accuracy: 0.8260\n",
      "Epoch 114/150\n",
      "313/313 [==============================] - 5s 15ms/step - loss: 0.1826 - accuracy: 0.9275 - val_loss: 0.5327 - val_accuracy: 0.8230\n",
      "Epoch 115/150\n",
      "313/313 [==============================] - 4s 13ms/step - loss: 0.1766 - accuracy: 0.9297 - val_loss: 0.5607 - val_accuracy: 0.8130\n",
      "Epoch 116/150\n",
      "313/313 [==============================] - 5s 15ms/step - loss: 0.1822 - accuracy: 0.9275 - val_loss: 0.5262 - val_accuracy: 0.8190\n",
      "Epoch 117/150\n",
      "313/313 [==============================] - 5s 15ms/step - loss: 0.1789 - accuracy: 0.9281 - val_loss: 0.5443 - val_accuracy: 0.8260\n",
      "Epoch 118/150\n",
      "313/313 [==============================] - 5s 14ms/step - loss: 0.1704 - accuracy: 0.9302 - val_loss: 0.5393 - val_accuracy: 0.8270\n",
      "Epoch 119/150\n",
      "313/313 [==============================] - 5s 15ms/step - loss: 0.1708 - accuracy: 0.9311 - val_loss: 0.5431 - val_accuracy: 0.8250\n",
      "Epoch 120/150\n",
      "313/313 [==============================] - 5s 14ms/step - loss: 0.1744 - accuracy: 0.9302 - val_loss: 0.5389 - val_accuracy: 0.8200\n",
      "Epoch 121/150\n",
      "313/313 [==============================] - 5s 14ms/step - loss: 0.1686 - accuracy: 0.9341 - val_loss: 0.5696 - val_accuracy: 0.8250\n",
      "Epoch 122/150\n",
      "313/313 [==============================] - 5s 14ms/step - loss: 0.1743 - accuracy: 0.9323 - val_loss: 0.5541 - val_accuracy: 0.8280\n",
      "Epoch 123/150\n",
      "313/313 [==============================] - 5s 15ms/step - loss: 0.1653 - accuracy: 0.9344 - val_loss: 0.5493 - val_accuracy: 0.8420\n",
      "Epoch 124/150\n",
      "313/313 [==============================] - 5s 15ms/step - loss: 0.1672 - accuracy: 0.9343 - val_loss: 0.5871 - val_accuracy: 0.8350\n",
      "Epoch 125/150\n",
      "313/313 [==============================] - 5s 15ms/step - loss: 0.1652 - accuracy: 0.9336 - val_loss: 0.5670 - val_accuracy: 0.8300\n",
      "Epoch 126/150\n",
      "313/313 [==============================] - 5s 15ms/step - loss: 0.1728 - accuracy: 0.9276 - val_loss: 0.5283 - val_accuracy: 0.8370\n",
      "Epoch 127/150\n",
      "313/313 [==============================] - 4s 14ms/step - loss: 0.1692 - accuracy: 0.9330 - val_loss: 0.5526 - val_accuracy: 0.8350\n",
      "Epoch 128/150\n",
      "313/313 [==============================] - 5s 15ms/step - loss: 0.1658 - accuracy: 0.9360 - val_loss: 0.5641 - val_accuracy: 0.8290\n",
      "Epoch 129/150\n",
      "313/313 [==============================] - 5s 15ms/step - loss: 0.1567 - accuracy: 0.9381 - val_loss: 0.5868 - val_accuracy: 0.8280\n",
      "Epoch 130/150\n",
      "313/313 [==============================] - 5s 15ms/step - loss: 0.1648 - accuracy: 0.9335 - val_loss: 0.5987 - val_accuracy: 0.8240\n",
      "Epoch 131/150\n",
      "313/313 [==============================] - 5s 15ms/step - loss: 0.1639 - accuracy: 0.9336 - val_loss: 0.5649 - val_accuracy: 0.8310\n",
      "Epoch 132/150\n",
      "313/313 [==============================] - 4s 14ms/step - loss: 0.1570 - accuracy: 0.9370 - val_loss: 0.5912 - val_accuracy: 0.8160\n",
      "Epoch 133/150\n",
      "313/313 [==============================] - 5s 15ms/step - loss: 0.1621 - accuracy: 0.9358 - val_loss: 0.5657 - val_accuracy: 0.8340\n",
      "Epoch 134/150\n",
      "313/313 [==============================] - 4s 14ms/step - loss: 0.1558 - accuracy: 0.9384 - val_loss: 0.5852 - val_accuracy: 0.8370\n",
      "Epoch 135/150\n",
      "313/313 [==============================] - 5s 15ms/step - loss: 0.1588 - accuracy: 0.9387 - val_loss: 0.5835 - val_accuracy: 0.8290\n",
      "Epoch 136/150\n",
      "313/313 [==============================] - 5s 15ms/step - loss: 0.1519 - accuracy: 0.9401 - val_loss: 0.5636 - val_accuracy: 0.8330\n",
      "Epoch 137/150\n",
      "313/313 [==============================] - 5s 15ms/step - loss: 0.1561 - accuracy: 0.9367 - val_loss: 0.5979 - val_accuracy: 0.8370\n",
      "Epoch 138/150\n",
      "313/313 [==============================] - 5s 15ms/step - loss: 0.1581 - accuracy: 0.9386 - val_loss: 0.5856 - val_accuracy: 0.8310\n",
      "Epoch 139/150\n",
      "313/313 [==============================] - 5s 15ms/step - loss: 0.1507 - accuracy: 0.9413 - val_loss: 0.6234 - val_accuracy: 0.8260\n",
      "Epoch 140/150\n",
      "313/313 [==============================] - 5s 15ms/step - loss: 0.1540 - accuracy: 0.9399 - val_loss: 0.5876 - val_accuracy: 0.8310\n",
      "Epoch 141/150\n",
      "313/313 [==============================] - 5s 15ms/step - loss: 0.1516 - accuracy: 0.9395 - val_loss: 0.5635 - val_accuracy: 0.8290\n",
      "Epoch 142/150\n",
      "313/313 [==============================] - 5s 14ms/step - loss: 0.1523 - accuracy: 0.9414 - val_loss: 0.6012 - val_accuracy: 0.8300\n",
      "Epoch 143/150\n",
      "313/313 [==============================] - 5s 15ms/step - loss: 0.1529 - accuracy: 0.9412 - val_loss: 0.5815 - val_accuracy: 0.8340\n",
      "Epoch 144/150\n",
      "313/313 [==============================] - 4s 14ms/step - loss: 0.1490 - accuracy: 0.9423 - val_loss: 0.6347 - val_accuracy: 0.8110\n",
      "Epoch 145/150\n",
      "313/313 [==============================] - 4s 14ms/step - loss: 0.1530 - accuracy: 0.9416 - val_loss: 0.6045 - val_accuracy: 0.8320\n",
      "Epoch 146/150\n",
      "313/313 [==============================] - 5s 15ms/step - loss: 0.1459 - accuracy: 0.9426 - val_loss: 0.6363 - val_accuracy: 0.8310\n",
      "Epoch 147/150\n",
      "313/313 [==============================] - 4s 14ms/step - loss: 0.1495 - accuracy: 0.9418 - val_loss: 0.6218 - val_accuracy: 0.8260\n",
      "Epoch 148/150\n",
      "313/313 [==============================] - 5s 15ms/step - loss: 0.1391 - accuracy: 0.9446 - val_loss: 0.6182 - val_accuracy: 0.8340\n",
      "Epoch 149/150\n",
      "313/313 [==============================] - 5s 14ms/step - loss: 0.1442 - accuracy: 0.9417 - val_loss: 0.6424 - val_accuracy: 0.8340\n",
      "Epoch 150/150\n",
      "313/313 [==============================] - 5s 15ms/step - loss: 0.1510 - accuracy: 0.9413 - val_loss: 0.6264 - val_accuracy: 0.8350\n"
     ]
    }
   ],
   "source": [
    "history = model.fit([inputs_train, queries_train], answers_train, \n",
    "                   batch_size = 32, epochs = 150, validation_data = ([inputs_test, queries_test], answers_test)\n",
    "                   )\n"
   ]
  },
  {
   "cell_type": "code",
   "execution_count": 368,
   "id": "75a6697d",
   "metadata": {},
   "outputs": [],
   "source": [
    "import matplotlib.pyplot as plt\n"
   ]
  },
  {
   "cell_type": "code",
   "execution_count": 369,
   "id": "e006ea28",
   "metadata": {},
   "outputs": [
    {
     "name": "stdout",
     "output_type": "stream",
     "text": [
      "dict_keys(['loss', 'accuracy', 'val_loss', 'val_accuracy'])\n"
     ]
    }
   ],
   "source": [
    "print(history.history.keys())"
   ]
  },
  {
   "cell_type": "code",
   "execution_count": 370,
   "id": "e63fadf6",
   "metadata": {},
   "outputs": [
    {
     "data": {
      "text/plain": [
       "Text(0, 0.5, 'accuracy')"
      ]
     },
     "execution_count": 370,
     "metadata": {},
     "output_type": "execute_result"
    },
    {
     "data": {
      "image/png": "[encoded data removed]",
      "text/plain": [
       "<Figure size 432x288 with 1 Axes>"
      ]
     },
     "metadata": {
      "needs_background": "light"
     },
     "output_type": "display_data"
    }
   ],
   "source": [
    "plt.plot(history.history['accuracy'])\n",
    "plt.plot(history.history['val_accuracy'])\n",
    "plt.title('model accuracy')\n",
    "plt.xlabel('epochs')\n",
    "plt.ylabel('accuracy')"
   ]
  },
  {
   "cell_type": "code",
   "execution_count": 371,
   "id": "158441d7",
   "metadata": {},
   "outputs": [
    {
     "name": "stderr",
     "output_type": "stream",
     "text": [
      "WARNING:absl:Found untraced functions such as lstm_cell_1_layer_call_fn, lstm_cell_1_layer_call_and_return_conditional_losses while saving (showing 2 of 2). These functions will not be directly callable after loading.\n"
     ]
    },
    {
     "name": "stdout",
     "output_type": "stream",
     "text": [
      "INFO:tensorflow:Assets written to: chatbot\\assets\n"
     ]
    },
    {
     "name": "stderr",
     "output_type": "stream",
     "text": [
      "INFO:tensorflow:Assets written to: chatbot\\assets\n"
     ]
    }
   ],
   "source": [
    "model.save(\"chatbot\")"
   ]
  },
  {
   "cell_type": "code",
   "execution_count": 372,
   "id": "1f7166b1",
   "metadata": {},
   "outputs": [],
   "source": [
    "#evaluation on test set"
   ]
  },
  {
   "cell_type": "code",
   "execution_count": 373,
   "id": "8310363b",
   "metadata": {},
   "outputs": [
    {
     "data": {
      "text/plain": [
       "<tensorflow.python.checkpoint.checkpoint.CheckpointLoadStatus at 0x2295332b310>"
      ]
     },
     "execution_count": 373,
     "metadata": {},
     "output_type": "execute_result"
    }
   ],
   "source": [
    "model.load_weights(\"chatbot\")"
   ]
  },
  {
   "cell_type": "code",
   "execution_count": 374,
   "id": "1a646daf",
   "metadata": {},
   "outputs": [
    {
     "name": "stdout",
     "output_type": "stream",
     "text": [
      "32/32 [==============================] - 1s 3ms/step\n"
     ]
    }
   ],
   "source": [
    "pred_results = model.predict(([inputs_test, queries_test]))"
   ]
  },
  {
   "cell_type": "code",
   "execution_count": 185,
   "id": "37e0f897",
   "metadata": {},
   "outputs": [
    {
     "data": {
      "text/plain": [
       "['Mary',\n",
       " 'got',\n",
       " 'the',\n",
       " 'milk',\n",
       " 'there',\n",
       " '.',\n",
       " 'John',\n",
       " 'moved',\n",
       " 'to',\n",
       " 'the',\n",
       " 'bedroom',\n",
       " '.']"
      ]
     },
     "execution_count": 185,
     "metadata": {},
     "output_type": "execute_result"
    }
   ],
   "source": [
    "test_data[0][0]"
   ]
  },
  {
   "cell_type": "code",
   "execution_count": 375,
   "id": "df517aeb",
   "metadata": {},
   "outputs": [],
   "source": [
    "story = ' '.join(word for word in test_data[50][0])"
   ]
  },
  {
   "cell_type": "code",
   "execution_count": 377,
   "id": "06e12f51",
   "metadata": {},
   "outputs": [
    {
     "data": {
      "text/plain": [
       "'Mary journeyed to the kitchen . Daniel picked up the football there .'"
      ]
     },
     "execution_count": 377,
     "metadata": {},
     "output_type": "execute_result"
    }
   ],
   "source": [
    "story"
   ]
  },
  {
   "cell_type": "code",
   "execution_count": 378,
   "id": "14c14a9d",
   "metadata": {},
   "outputs": [
    {
     "data": {
      "text/plain": [
       "'Is Mary in the kitchen ?'"
      ]
     },
     "execution_count": 378,
     "metadata": {},
     "output_type": "execute_result"
    }
   ],
   "source": [
    "querry = ' '.join(word for word in test_data[50][1])\n",
    "querry"
   ]
  },
  {
   "cell_type": "code",
   "execution_count": 380,
   "id": "385e5ae8",
   "metadata": {},
   "outputs": [
    {
     "data": {
      "text/plain": [
       "'yes'"
      ]
     },
     "execution_count": 380,
     "metadata": {},
     "output_type": "execute_result"
    }
   ],
   "source": [
    "test_data[50][2]"
   ]
  },
  {
   "cell_type": "code",
   "execution_count": 381,
   "id": "75d0df8f",
   "metadata": {},
   "outputs": [
    {
     "data": {
      "text/plain": [
       "'Mary got the milk there . John moved to the bedroom .'"
      ]
     },
     "execution_count": 381,
     "metadata": {},
     "output_type": "execute_result"
    }
   ],
   "source": [
    "story = ' '.join(word for word in test_data[0][0])\n",
    "story"
   ]
  },
  {
   "cell_type": "code",
   "execution_count": 382,
   "id": "e4e84c90",
   "metadata": {},
   "outputs": [
    {
     "data": {
      "text/plain": [
       "'Is John in the kitchen ?'"
      ]
     },
     "execution_count": 382,
     "metadata": {},
     "output_type": "execute_result"
    }
   ],
   "source": [
    "querry = ' '.join(word for word in test_data[0][1])\n",
    "querry"
   ]
  },
  {
   "cell_type": "code",
   "execution_count": 383,
   "id": "6dcc8736",
   "metadata": {},
   "outputs": [
    {
     "name": "stdout",
     "output_type": "stream",
     "text": [
      "predicted answer is no\n",
      "probablity of certainity  0.9999852\n"
     ]
    }
   ],
   "source": [
    "val_max = np.argmax(pred_results[0])\n",
    "for key, val in tokenizer.word_index.items():\n",
    "    if val == val_max:\n",
    "        k = key\n",
    "        \n",
    "print(\"predicted answer is\", k)\n",
    "print(\"probablity of certainity \", pred_results[0][val_max])"
   ]
  },
  {
   "cell_type": "code",
   "execution_count": 388,
   "id": "f7bff2de",
   "metadata": {},
   "outputs": [
    {
     "data": {
      "text/plain": [
       "'John moved to the hallway . Sandra went to the bedroom . Sandra travelled to the garden . John got the football there . Daniel went back to the bedroom . Mary moved to the bathroom . Mary went to the kitchen . Sandra went to the hallway .'"
      ]
     },
     "execution_count": 388,
     "metadata": {},
     "output_type": "execute_result"
    }
   ],
   "source": [
    "story = ' '.join(word for word in test_data[13][0])\n",
    "story"
   ]
  },
  {
   "cell_type": "code",
   "execution_count": 389,
   "id": "5a971e97",
   "metadata": {},
   "outputs": [
    {
     "data": {
      "text/plain": [
       "'Is Mary in the kitchen ?'"
      ]
     },
     "execution_count": 389,
     "metadata": {},
     "output_type": "execute_result"
    }
   ],
   "source": [
    "querry = ' '.join(word for word in test_data[13][1])\n",
    "querry"
   ]
  },
  {
   "cell_type": "code",
   "execution_count": 390,
   "id": "19096632",
   "metadata": {
    "scrolled": true
   },
   "outputs": [
    {
     "name": "stdout",
     "output_type": "stream",
     "text": [
      "predicted answer is yes\n",
      "probablity of certainity  0.9655147\n"
     ]
    }
   ],
   "source": [
    "val_max = np.argmax(pred_results[13])\n",
    "for key, val in tokenizer.word_index.items():\n",
    "    if val == val_max:\n",
    "        k = key\n",
    "        \n",
    "print(\"predicted answer is\", k)\n",
    "print(\"probablity of certainity \", pred_results[13][val_max])"
   ]
  },
  {
   "cell_type": "code",
   "execution_count": 489,
   "id": "05b33392",
   "metadata": {},
   "outputs": [
    {
     "data": {
      "text/plain": [
       "{'.',\n",
       " '?',\n",
       " 'Daniel',\n",
       " 'Is',\n",
       " 'John',\n",
       " 'Mary',\n",
       " 'Sandra',\n",
       " 'apple',\n",
       " 'back',\n",
       " 'bathroom',\n",
       " 'bedroom',\n",
       " 'discarded',\n",
       " 'down',\n",
       " 'dropped',\n",
       " 'football',\n",
       " 'garden',\n",
       " 'got',\n",
       " 'grabbed',\n",
       " 'hallway',\n",
       " 'in',\n",
       " 'journeyed',\n",
       " 'kitchen',\n",
       " 'left',\n",
       " 'milk',\n",
       " 'moved',\n",
       " 'no',\n",
       " 'office',\n",
       " 'picked',\n",
       " 'put',\n",
       " 'the',\n",
       " 'there',\n",
       " 'to',\n",
       " 'took',\n",
       " 'travelled',\n",
       " 'up',\n",
       " 'went',\n",
       " 'yes'}"
      ]
     },
     "execution_count": 489,
     "metadata": {},
     "output_type": "execute_result"
    }
   ],
   "source": [
    "vocab"
   ]
  },
  {
   "cell_type": "code",
   "execution_count": 462,
   "id": "f43893c7",
   "metadata": {},
   "outputs": [
    {
     "data": {
      "text/plain": [
       "['Sandra',\n",
       " 'travelled',\n",
       " 'to',\n",
       " 'the',\n",
       " 'hallway',\n",
       " '.',\n",
       " 'Mary',\n",
       " 'picked',\n",
       " 'the',\n",
       " 'football',\n",
       " '.',\n",
       " 'Daniel',\n",
       " 'discarded',\n",
       " 'the',\n",
       " 'milk',\n",
       " 'in',\n",
       " 'the',\n",
       " 'kitchen',\n",
       " '.']"
      ]
     },
     "execution_count": 462,
     "metadata": {},
     "output_type": "execute_result"
    }
   ],
   "source": [
    "#make our own story with the vocab available\n",
    "story = 'Sandra travelled to the hallway . Mary picked the football . Daniel discarded the milk in the kitchen .'\n",
    "story.split()"
   ]
  },
  {
   "cell_type": "code",
   "execution_count": 463,
   "id": "5b674121",
   "metadata": {},
   "outputs": [
    {
     "data": {
      "text/plain": [
       "['Is', 'Daniel', 'in', 'the', 'kitchen', '?']"
      ]
     },
     "execution_count": 463,
     "metadata": {},
     "output_type": "execute_result"
    }
   ],
   "source": [
    "my_question = 'Is Daniel in the kitchen ?'\n",
    "my_question.split()"
   ]
  },
  {
   "cell_type": "code",
   "execution_count": 464,
   "id": "38bb39a2",
   "metadata": {},
   "outputs": [],
   "source": [
    "my_data = [(story.split(), my_question.split(), 'yes')]"
   ]
  },
  {
   "cell_type": "code",
   "execution_count": 465,
   "id": "f26546b1",
   "metadata": {},
   "outputs": [],
   "source": [
    "my_story, my_question, my_answers = vectorize_stories(my_data)"
   ]
  },
  {
   "cell_type": "code",
   "execution_count": 466,
   "id": "28f8fc0b",
   "metadata": {},
   "outputs": [
    {
     "name": "stdout",
     "output_type": "stream",
     "text": [
      "1/1 [==============================] - 0s 21ms/step\n"
     ]
    }
   ],
   "source": [
    "pred_results = model.predict(([my_story, my_question]))"
   ]
  },
  {
   "cell_type": "code",
   "execution_count": 467,
   "id": "d5ed8e62",
   "metadata": {},
   "outputs": [
    {
     "name": "stdout",
     "output_type": "stream",
     "text": [
      "predicted answer is yes\n",
      "probablity of certainity  0.9693201\n"
     ]
    }
   ],
   "source": [
    "val_max = np.argmax(pred_results[0])\n",
    "for key, val in tokenizer.word_index.items():\n",
    "    if val == val_max:\n",
    "        k = key\n",
    "        \n",
    "print(\"predicted answer is\", k)\n",
    "print(\"probablity of certainity \", pred_results[0][val_max])"
   ]
  },
  {
   "cell_type": "code",
   "execution_count": 500,
   "id": "84957e98",
   "metadata": {},
   "outputs": [
    {
     "data": {
      "text/plain": [
       "['Mary',\n",
       " 'journeyed',\n",
       " 'to',\n",
       " 'the',\n",
       " 'bedroom',\n",
       " '.',\n",
       " 'Sandra',\n",
       " 'dropped',\n",
       " 'the',\n",
       " 'football',\n",
       " 'there',\n",
       " '.',\n",
       " 'John',\n",
       " 'travelled',\n",
       " 'to',\n",
       " 'the',\n",
       " 'garden',\n",
       " '.']"
      ]
     },
     "execution_count": 500,
     "metadata": {},
     "output_type": "execute_result"
    }
   ],
   "source": [
    "story = 'Mary journeyed to the bedroom . Sandra dropped the football there . John travelled to the garden .'\n",
    "story.split()"
   ]
  },
  {
   "cell_type": "code",
   "execution_count": 501,
   "id": "6ce43956",
   "metadata": {},
   "outputs": [
    {
     "data": {
      "text/plain": [
       "['Is', 'John', 'in', 'the', 'kitchen', '?']"
      ]
     },
     "execution_count": 501,
     "metadata": {},
     "output_type": "execute_result"
    }
   ],
   "source": [
    "my_question = 'Is John in the kitchen ?'\n",
    "my_question.split()"
   ]
  },
  {
   "cell_type": "code",
   "execution_count": 502,
   "id": "fa1750a0",
   "metadata": {},
   "outputs": [],
   "source": [
    "my_data = [(story.split(), my_question.split(), 'no')]"
   ]
  },
  {
   "cell_type": "code",
   "execution_count": 503,
   "id": "fb304b12",
   "metadata": {},
   "outputs": [],
   "source": [
    "my_story, my_question, my_answers = vectorize_stories(my_data)"
   ]
  },
  {
   "cell_type": "code",
   "execution_count": 504,
   "id": "03038b9d",
   "metadata": {},
   "outputs": [
    {
     "name": "stdout",
     "output_type": "stream",
     "text": [
      "1/1 [==============================] - 0s 35ms/step\n"
     ]
    }
   ],
   "source": [
    "pred_results = model.predict(([my_story, my_question]))"
   ]
  },
  {
   "cell_type": "code",
   "execution_count": 505,
   "id": "2520b74d",
   "metadata": {},
   "outputs": [
    {
     "name": "stdout",
     "output_type": "stream",
     "text": [
      "predicted answer is no\n",
      "probablity of certainity  0.99983525\n"
     ]
    }
   ],
   "source": [
    "val_max = np.argmax(pred_results[0])\n",
    "for key, val in tokenizer.word_index.items():\n",
    "    if val == val_max:\n",
    "        k = key\n",
    "        \n",
    "print(\"predicted answer is\", k)\n",
    "print(\"probablity of certainity \", pred_results[0][val_max])"
   ]
  }
 ],
 "metadata": {
  "kernelspec": {
   "display_name": "Python 3 (ipykernel)",
   "language": "python",
   "name": "python3"
  },
  "language_info": {
   "codemirror_mode": {
    "name": "ipython",
    "version": 3
   },
   "file_extension": ".py",
   "mimetype": "text/x-python",
   "name": "python",
   "nbconvert_exporter": "python",
   "pygments_lexer": "ipython3",
   "version": "3.9.12"
  }
 },
 "nbformat": 4,
 "nbformat_minor": 5
}
